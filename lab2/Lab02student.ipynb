{
 "cells": [
  {
   "cell_type": "markdown",
   "metadata": {},
   "source": [
    "# Discrete sampling\n",
    "In the last problem of the first session we sampled with given probabilities using prefix sums and binary search. The sampling code is the bottleneck of the whole process, its running times is 3 times higher than the code for uniform probabilities, and the difference would only increase for larger number of outcomes. In the next two problems we discuss two simple, but powerful techniques one can use to sample in time $O(1)$."
   ]
  },
  {
   "cell_type": "markdown",
   "metadata": {},
   "source": [
    "**Problem 2a.** Consider the problem of sampling with known probabilities $p_1,\\ldots,p_d$. Suppose that you have a black-box that samples with probabilities $q_1,\\ldots,q_d$ that are close to $p_1,\\ldots,p_d$, say\n",
    "$$ \\forall_{i=1,\\ldots,n} p_i \\le (1+\\varepsilon)q_i.$$\n",
    "\n",
    "* How can you use this black-box to sample with probabilities $p_1,\\ldots,p_d$? It is expected, that the running time of the algorithm would be non-deterministic.\n",
    "* Prove that your algorithm is correct.\n",
    "* Implement the algorithm and use it to give a faster implementation for **Problem 1c**."
   ]
  },
  {
   "cell_type": "code",
   "execution_count": 3,
   "metadata": {
    "collapsed": false
   },
   "outputs": [
    {
     "name": "stdout",
     "output_type": "stream",
     "text": [
      "(9810669,)\n"
     ]
    },
    {
     "data": {
      "image/png": "[encoded data removed]",
      "text/plain": [
       "<matplotlib.figure.Figure at 0x7f4b04c1a358>"
      ]
     },
     "metadata": {},
     "output_type": "display_data"
    }
   ],
   "source": [
    "import numpy as np\n",
    "import matplotlib.pyplot as plt\n",
    "import random\n",
    "%matplotlib inline\n",
    "\n",
    "T = np.loadtxt('us_births_69_88.csv', skiprows=1, delimiter=',', dtype=int)\n",
    "\n",
    "total = np.sum(T[:, 2])\n",
    "\n",
    "prob = T[:, 2] / total\n",
    "\n",
    "highest = np.max(prob)\n",
    "\n",
    "\n",
    "days = np.random.randint(371, size = 10000000)\n",
    "\n",
    "def accept(i):\n",
    "    los = random.uniform(0, highest)\n",
    "    return los < prob[days[i]]\n",
    "\n",
    "accepts = np.fromfunction(accept, days.shape, dtype=int)\n",
    "\n",
    "final_days = days[accepts]\n",
    "\n",
    "print (final_days.shape)\n",
    "\n",
    "def random_dates():\n",
    "    results = []\n",
    "    s = set()\n",
    "    counter = 0\n",
    "    \n",
    "    for day in final_days:\n",
    "        counter += 1\n",
    "        if day in s:\n",
    "            results.append(counter)\n",
    "            s.clear()\n",
    "            counter = 0\n",
    "        else:\n",
    "            s.add(day)\n",
    "            \n",
    "    return results\n",
    "\n",
    "\n",
    "plt.hist(random_dates(), bins=range(1, 80))\n",
    "plt.show()\n",
    "\n",
    "   \n"
   ]
  },
  {
   "cell_type": "markdown",
   "metadata": {},
   "source": [
    "**Problem 2b.** One of the reasons this implementation is not significantly faster than the one in **Problem 1c** , apart from $d$ being rather small, is that we are using Python's interpreter a bit too much, and Python is slow. One way around this is usually to use a library function - **searchsorted** is much faster than an equivalent code implemented in pure Python. But even if the functionality you need is not implemented in a lower level language as\n",
    "a library function, there is still hope. You can try to implement it using optimized array algebra, for example using **numpy**. In this problem, your task is to rewrite the previous algorithm, so that the amount of *looping* is reduced to a minimum necessary. In particular, you should create a *vectorized* version of random dates generation (in bulk), while the actual search for duplicates remains a loop with a **set**. Here are some useful tips:\n",
    "   * You can perform arithmetic, comparisons, etc. on **numpy** arrays.\n",
    "   * You can generate whole **numpy** arrays of random numbers at once.\n",
    "   * You can even perform parallel look-up like in the example below."
   ]
  },
  {
   "cell_type": "code",
   "execution_count": null,
   "metadata": {
    "collapsed": false
   },
   "outputs": [],
   "source": [
    "X = np.array([10,3,7])\n",
    "I = np.array([1,1,2,2])\n",
    "print(X[I])\n",
    "X = np.array([[1,2],[3,4]])\n",
    "I = np.array([0,0,1])\n",
    "J = np.array([1,0,1])\n",
    "print(X[I,J])"
   ]
  },
  {
   "cell_type": "markdown",
   "metadata": {},
   "source": [
    "**Problem 2c (Squaring the histogram).** In this problem, we again want to sample with known probabilities $p_1,\\ldots,p_n$, but this time we make no assumptions on $p_i$. Consider the following algorithm:\n",
    "   * Let $V$ be the mean of $p_i$, i.e. $M=\\frac{1}{n}$.\n",
    "   * Create $n$ buckets, each with volume $V$, put each $p_i$ into a separate bucket.\n",
    "   * Until there exists a bucket $A$ that is not full, find a bucket $B$ that overflows, and trasfer probability from $B$ to $A$ until $A$ is exactly full\n",
    "\n",
    "Show that:\n",
    "   * This algorithm always ends.\n",
    "   * When it ends, each bucket contains pieces of exactly two $p_i$'s.\n",
    "\n",
    "How to use the result of this algorithm to sample with probabilities $p_i$. Argue that your algorithm is correct and implement it. The sampling part should be *vectorized*. Use this algorithm to sample birthdates again, and test its efficiency."
   ]
  },
  {
   "cell_type": "markdown",
   "metadata": {},
   "source": [
    "** Justification of the solution for the problem 2c **\n",
    "\n",
    "In each of the steps, we entirely fit one bucket - we can do it as we transfer the content from a one which overflows. In a single step, we may change a bucket that overflows into one that is not full. However, after each step the number of buckets that are considered is lower. Therefore an algorithms is finite, more exactly it requires $O(n)$ operations for the phase of preprocessing, then the sampling is also in linear time, considering the sample size.\n",
    "\n",
    "Each bucket contains pieces of one or two $pi$'s - bucket $A_i$ contains $p_i$ and one other if we actually filled it (we always fill the bucket once - up to the top).\n",
    "\n",
    "*Michał Kuźba*"
   ]
  },
  {
   "cell_type": "code",
   "execution_count": 7,
   "metadata": {
    "collapsed": false
   },
   "outputs": [
    {
     "name": "stdout",
     "output_type": "stream",
     "text": [
      "[5 5 2 4 5 0 5 0 5 5 1 1 0 2 0 5 0 5 5 0 1 5 0 0 0 5 5 5 1 5]\n"
     ]
    },
    {
     "data": {
      "image/png": "[encoded data removed]",
      "text/plain": [
       "<matplotlib.figure.Figure at 0x7f4b0282f2b0>"
      ]
     },
     "metadata": {},
     "output_type": "display_data"
    }
   ],
   "source": [
    "import numpy as np\n",
    "import random\n",
    "import matplotlib.pyplot as plt\n",
    "%matplotlib inline\n",
    "\n",
    "class Randomizer:\n",
    "    over = []\n",
    "    under = []        \n",
    "    \n",
    "    \"\"\" Init randomizer with a given probabilities. \"\"\"\n",
    "    def __init__(self, p):\n",
    "        self.p = np.array(p)\n",
    "        self.avg = np.mean(self.p)\n",
    "        self.buckets = np.zeros((self.p.shape[0], 2), dtype=int)\n",
    "        self.threshold = np.full((self.p.shape[0],), self.avg)\n",
    "        self.buckets[::, 0] = np.arange(self.p.shape[0])\n",
    "        self.__fill()\n",
    "     \n",
    "    \"\"\" Sample with a given probabilities. \"\"\"\n",
    "    def sample(self, size):\n",
    "        indexes = np.random.randint(0, self.p.shape[0], size=size)\n",
    "        positions = np.random.uniform(0, self.avg, size=size)\n",
    "        masks = positions < self.threshold[indexes]\n",
    "        return np.where(masks, self.buckets[::, 0][indexes], self.buckets[::, 1][indexes])\n",
    "        \n",
    "    \n",
    "    \"\"\" Fill the buckets\"\"\"\n",
    "    def __fill(self):\n",
    "        for i in range(self.p.shape[0]):\n",
    "            if self.p[i] < self.avg:\n",
    "                self.under.append(i)\n",
    "            elif self.p[i] > self.avg:\n",
    "                self.over.append(i)\n",
    "        \n",
    "        while len(self.under) > 0:\n",
    "            un = self.under.pop()\n",
    "            ov = self.over.pop()\n",
    "                        \n",
    "            self.threshold[un] = self.p[un]\n",
    "            self.buckets[un, 1] = ov\n",
    "            \n",
    "            # subtract the part we borrowed\n",
    "            self.p[ov] -= (self.avg - self.p[un])\n",
    "            \n",
    "            # Floats inequality\n",
    "            if not np.isclose(self.p[ov], self.avg):\n",
    "                if self.p[ov] < self.avg:\n",
    "                    self.under.append(ov)\n",
    "                elif self.p[ov] > self.avg:\n",
    "                    self.over.append(ov)       \n",
    "                         \n",
    "    def print_buckets(self):\n",
    "        print(self.buckets)\n",
    "        print(self.threshold)\n",
    "        \n",
    "Births = np.loadtxt('us_births_69_88.csv', skiprows=1, delimiter=',', dtype=int)\n",
    "\n",
    "total = np.sum(Births[:, 2])\n",
    "\n",
    "prob = Births[:, 2] / total\n",
    "\n",
    "def test():\n",
    "    pr = [0.25, 0.1, 0.1, 0.0, 0.05, 0.5]\n",
    "\n",
    "    ran = Randomizer(pr)\n",
    "\n",
    "    print(ran.sample(30))\n",
    "\n",
    "test()\n",
    "\n",
    "randomizer = Randomizer(prob)\n",
    "\n",
    "sample = randomizer.sample(10000000)\n",
    "\n",
    "\n",
    "def random_dates():\n",
    "    results = []\n",
    "    s = set()\n",
    "    counter = 0\n",
    "    \n",
    "    for day in sample:\n",
    "        counter += 1\n",
    "        if day in s:\n",
    "            results.append(counter)\n",
    "            s.clear()\n",
    "            counter = 0\n",
    "        else:\n",
    "            s.add(day)\n",
    "            \n",
    "    return results\n",
    "\n",
    "\n",
    "plt.hist(random_dates(), bins=range(1, 80))\n",
    "plt.show()\n",
    "    "
   ]
  },
  {
   "cell_type": "markdown",
   "metadata": {},
   "source": [
    "**Problem 2d.** Show that the frequency histogram for empirical birthday frequencies can actually be computed exactly, and implement your idea. To this end, design a recurence relation using conditional probabilities and use dynamic programming."
   ]
  }
 ],
 "metadata": {
  "anaconda-cloud": {},
  "kernelspec": {
   "display_name": "Python [Root]",
   "language": "python",
   "name": "Python [Root]"
  },
  "language_info": {
   "codemirror_mode": {
    "name": "ipython",
    "version": 3
   },
   "file_extension": ".py",
   "mimetype": "text/x-python",
   "name": "python",
   "nbconvert_exporter": "python",
   "pygments_lexer": "ipython3",
   "version": "3.5.2"
  }
 },
 "nbformat": 4,
 "nbformat_minor": 1
}
